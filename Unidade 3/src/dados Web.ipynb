{
 "cells": [
  {
   "cell_type": "markdown",
   "metadata": {},
   "source": [
    "## Extrair arquivos por request"
   ]
  },
  {
   "cell_type": "markdown",
   "metadata": {},
   "source": [
    "### Lib"
   ]
  },
  {
   "cell_type": "code",
   "execution_count": 2,
   "metadata": {},
   "outputs": [],
   "source": [
    "from io import BytesIO\n",
    "import requests\n",
    "import os\n",
    "import zipfile"
   ]
  },
  {
   "cell_type": "markdown",
   "metadata": {},
   "source": [
    "### URL"
   ]
  },
  {
   "cell_type": "code",
   "execution_count": 3,
   "metadata": {},
   "outputs": [],
   "source": [
    "url = 'https://leandrolessa.com.br/wp-content/uploads/2024/04/processamento_licencas_medicas.zip'"
   ]
  },
  {
   "cell_type": "markdown",
   "metadata": {},
   "source": [
    "### Função"
   ]
  },
  {
   "cell_type": "code",
   "execution_count": 9,
   "metadata": {},
   "outputs": [],
   "source": [
    "def baixar_extrair_arquivo_zip(url, diretorio_de_destino):\n",
    "\n",
    "    headers = {'User-Agent': 'Chrome'}\n",
    "\n",
    "    response = requests.get(url, headers=headers)\n",
    "\n",
    "    if response.status_code == requests.codes.OK:\n",
    "        nome_arquivo = url.split('/')[-1]\n",
    "        caminho_arquivo = os.path.join(diretorio_de_destino, nome_arquivo)\n",
    "\n",
    "        with open (caminho_arquivo, 'wb') as arquivo:\n",
    "            arquivo.write(response.content)\n",
    "        print(f'Download realizado com sucesso e salvo em: {caminho_arquivo}')\n",
    "\n",
    "        filebytes = BytesIO(response.content)\n",
    "\n",
    "        myzip = zipfile.ZipFile(filebytes)\n",
    "\n",
    "        print('iniciando o processo de extração de dados \\n')\n",
    "        myzip.extractall(diretorio_de_destino)\n",
    "        print(f'Arquivo {nome_arquivo} foi extraido com sucesso')\n",
    "    else:\n",
    "        print('Nã foi possivel accessar o site, verifique o arquivo ZIP')\n",
    "        response.reise_for_status()"
   ]
  },
  {
   "cell_type": "code",
   "execution_count": 10,
   "metadata": {},
   "outputs": [],
   "source": [
    "def diretrorio(diretorio):\n",
    "    if not os.path.exists(diretorio):\n",
    "        os.makedirs(diretorio)"
   ]
  },
  {
   "cell_type": "code",
   "execution_count": 11,
   "metadata": {},
   "outputs": [],
   "source": [
    "url = 'https://leandrolessa.com.br/wp-content/uploads/2024/04/processamento_licencas_medicas.zip'\n",
    "diretrorio_destino = \"../datasets/Licencas_medicas\""
   ]
  },
  {
   "cell_type": "code",
   "execution_count": 12,
   "metadata": {},
   "outputs": [
    {
     "name": "stdout",
     "output_type": "stream",
     "text": [
      "Download realizado com sucesso e salvo em: ../datasets/Licencas_medicas\\processamento_licencas_medicas.zip\n",
      "iniciando o processo de extração de dados \n",
      "\n",
      "Arquivo processamento_licencas_medicas.zip foi extraido com sucesso\n"
     ]
    }
   ],
   "source": [
    "diretrorio(diretrorio_destino)\n",
    "baixar_extrair_arquivo_zip(url,diretrorio_destino)"
   ]
  }
 ],
 "metadata": {
  "kernelspec": {
   "display_name": "EnvRPA",
   "language": "python",
   "name": "python3"
  },
  "language_info": {
   "codemirror_mode": {
    "name": "ipython",
    "version": 3
   },
   "file_extension": ".py",
   "mimetype": "text/x-python",
   "name": "python",
   "nbconvert_exporter": "python",
   "pygments_lexer": "ipython3",
   "version": "3.12.2"
  }
 },
 "nbformat": 4,
 "nbformat_minor": 2
}
