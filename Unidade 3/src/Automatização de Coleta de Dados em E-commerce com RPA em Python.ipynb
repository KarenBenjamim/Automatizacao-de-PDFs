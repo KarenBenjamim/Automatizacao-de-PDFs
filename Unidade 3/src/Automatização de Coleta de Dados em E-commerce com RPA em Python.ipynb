{
 "cells": [
  {
   "cell_type": "markdown",
   "metadata": {},
   "source": [
    "### Automatização de Coleta de Dados em E-commerce com RPA em Python\n",
    "\n",
    "No mundo digital, onde a competição é acirrada e a agilidade é fundamental, a coleta de dados em e-commerce é uma tarefa crucial para entender o mercado, monitorar concorrentes e manter-se atualizado sobre as tendências do setor. No entanto, realizar essa coleta manualmente pode consumir tempo precioso e recursos humanos, além de ser suscetível a erros.\n",
    "\n",
    "<Center><h5><font>Fluxograma da Automatização da Coleta de Dados na Web </font></h5></center>\n",
    "\n",
    "<center>\n",
    "\n",
    "\n",
    "\n",
    "<img src=\"../img/Automatização_Coleta_Dados_Web.png\" width=\"60%\">\n",
    "</center>\n",
    "\n",
    "\n",
    "<font color=\"yellow\">Requisitos</font>\n",
    "***\n",
    "Instalação das bibliotecas:\n",
    "- Requests (pip install requests)\n",
    "- Beautifulsoup4 (pip install beautifulsoup4)\n",
    "- Python-dotenv (pip install python-dotenv)"
   ]
  },
  {
   "cell_type": "markdown",
   "metadata": {},
   "source": [
    "#### Importação das Bibliotecas"
   ]
  },
  {
   "cell_type": "code",
   "execution_count": null,
   "metadata": {},
   "outputs": [
    {
     "data": {
      "text/plain": [
       "True"
      ]
     },
     "execution_count": 1,
     "metadata": {},
     "output_type": "execute_result"
    }
   ],
   "source": [
    "import requests\n",
    "from bs4 import BeautifulSoup\n",
    "import csv\n",
    "import random\n",
    "import time\n",
    "import smtplib\n",
    "import os\n",
    "import dotenv\n",
    "\n",
    "dotenv.load_dotenv(\"../config/.env\")"
   ]
  },
  {
   "cell_type": "markdown",
   "metadata": {},
   "source": [
    "#### Acessando Página na Web"
   ]
  },
  {
   "cell_type": "code",
   "execution_count": 2,
   "metadata": {},
   "outputs": [],
   "source": [
    "URL = 'https://produto.mercadolivre.com.br/MLB-1819810336-automatizaco-de-processos-com-rpa-_JM#polycard_client=storefronts&type=item&tracking_id=883bb066-f7df-4b07-b9c7-17e223e14c88&source=eshops'\n",
    "headers = {'User-Agent': 'Chrome'}\n",
    "Page = requests.get(URL, headers)\n",
    "soup = BeautifulSoup(Page.content, 'html.parser')"
   ]
  },
  {
   "cell_type": "markdown",
   "metadata": {},
   "source": [
    "#### Coletando Dados do Produto"
   ]
  },
  {
   "cell_type": "code",
   "execution_count": 3,
   "metadata": {},
   "outputs": [],
   "source": [
    "Produto = soup.select_one('h1.ui-pdp-title').text\n",
    "Preco = soup.select_one('span.andes-money-amount').text"
   ]
  },
  {
   "cell_type": "markdown",
   "metadata": {},
   "source": [
    "#### Realizando Tratamento de dados\n",
    "***\n",
    "Em Python, os números de ponto flutuante (float) são representados usando um ponto como separador decimal, em vez de vírgula, que é comum em algumas regiões do mundo. Portanto, quando você está coletando informações de preço de uma fonte externa, como um site de e-commerce, é importante garantir que o formato dos números esteja em conformidade com o esperado pela linguagem."
   ]
  },
  {
   "cell_type": "code",
   "execution_count": 4,
   "metadata": {},
   "outputs": [
    {
     "name": "stdout",
     "output_type": "stream",
     "text": [
      "117.6 <class 'float'>\n"
     ]
    }
   ],
   "source": [
    "Preco = float(Preco[2:].replace(',','.'))\n",
    "print(Preco, type(Preco))"
   ]
  },
  {
   "cell_type": "markdown",
   "metadata": {},
   "source": [
    "#### Coletando Dados da Lista de Desejos\n",
    "***\n"
   ]
  },
  {
   "cell_type": "code",
   "execution_count": 5,
   "metadata": {},
   "outputs": [],
   "source": [
    "def ler_arquivo(nome_arquivo):\n",
    "    lista_desejos = []\n",
    "\n",
    "    with open(nome_arquivo, 'r') as file:\n",
    "        arquivo = csv.reader(file, delimiter=';')\n",
    "        next(arquivo)\n",
    "        for linha in arquivo:\n",
    "            if len(linha) == 2:\n",
    "                item = {\n",
    "                    'URL': linha[0],\n",
    "                    \"Preco-alvo\": float(linha[1].replace(',', '.'))\n",
    "                }\n",
    "                lista_desejos.append(item)\n",
    "    return lista_desejos"
   ]
  },
  {
   "cell_type": "code",
   "execution_count": 6,
   "metadata": {},
   "outputs": [
    {
     "name": "stdout",
     "output_type": "stream",
     "text": [
      "[{'URL': 'https://produto.mercadolivre.com.br/MLB-1819810336-automatizaco-de-processos-com-rpa-_JM#polycard_client=storefronts&type=item&tracking_id=883bb066-f7df-4b07-b9c7-17e223e14c88&source=eshops', 'Preco-alvo': 120.0}, {'URL': 'https://www.mercadolivre.com.br/data-science-para-negocios/p/MLB22819951#polycard_client=storefronts&type=product&tracking_id=a1e2d65b-6361-40a1-8ab3-89357f43c6f2&source=eshops&wid=MLB3315351201&sid=storefronts ', 'Preco-alvo': 79.9}, {'URL': 'https://www.mercadolivre.com.br/storytelling-com-dados-edico-colorida/p/MLB19783940#polycard_client=storefronts&type=product&tracking_id=b0f3ec73-4952-4c43-9638-c17da4e881ac&source=eshops&wid=MLB3677811009&sid=storefronts', 'Preco-alvo': 72.0}, {'URL': 'https://produto.mercadolivre.com.br/MLB-4616732102-livro-projetando-sistemas-de-machine-learning-processo-interativo-para-aplicacoes-prontas-para-produco-_JM#polycard_client=storefronts&type=item&tracking_id=a851836a-15ea-4590-9c2d-b0ebf81b2eae&source=eshops', 'Preco-alvo': 65.99}]\n"
     ]
    },
    {
     "name": "stderr",
     "output_type": "stream",
     "text": [
      "<>:1: SyntaxWarning: invalid escape sequence '\\d'\n",
      "<>:1: SyntaxWarning: invalid escape sequence '\\d'\n",
      "C:\\Users\\milai\\AppData\\Local\\Temp\\ipykernel_11524\\1228795699.py:1: SyntaxWarning: invalid escape sequence '\\d'\n",
      "  arquivo = '..\\datasets\\E-commerce\\lista_de_desejos.txt'\n"
     ]
    }
   ],
   "source": [
    "arquivo = '..\\datasets\\E-commerce\\lista_de_desejos.txt'\n",
    "\n",
    "lista_desejos = ler_arquivo(arquivo)\n",
    "print(lista_desejos)"
   ]
  },
  {
   "cell_type": "markdown",
   "metadata": {},
   "source": [
    "#### Visualizando Dados Coletados\n",
    "***"
   ]
  },
  {
   "cell_type": "code",
   "execution_count": 7,
   "metadata": {},
   "outputs": [
    {
     "data": {
      "text/plain": [
       "[{'URL': 'https://produto.mercadolivre.com.br/MLB-1819810336-automatizaco-de-processos-com-rpa-_JM#polycard_client=storefronts&type=item&tracking_id=883bb066-f7df-4b07-b9c7-17e223e14c88&source=eshops',\n",
       "  'Preco-alvo': 120.0},\n",
       " {'URL': 'https://www.mercadolivre.com.br/data-science-para-negocios/p/MLB22819951#polycard_client=storefronts&type=product&tracking_id=a1e2d65b-6361-40a1-8ab3-89357f43c6f2&source=eshops&wid=MLB3315351201&sid=storefronts ',\n",
       "  'Preco-alvo': 79.9},\n",
       " {'URL': 'https://www.mercadolivre.com.br/storytelling-com-dados-edico-colorida/p/MLB19783940#polycard_client=storefronts&type=product&tracking_id=b0f3ec73-4952-4c43-9638-c17da4e881ac&source=eshops&wid=MLB3677811009&sid=storefronts',\n",
       "  'Preco-alvo': 72.0},\n",
       " {'URL': 'https://produto.mercadolivre.com.br/MLB-4616732102-livro-projetando-sistemas-de-machine-learning-processo-interativo-para-aplicacoes-prontas-para-produco-_JM#polycard_client=storefronts&type=item&tracking_id=a851836a-15ea-4590-9c2d-b0ebf81b2eae&source=eshops',\n",
       "  'Preco-alvo': 65.99}]"
      ]
     },
     "execution_count": 7,
     "metadata": {},
     "output_type": "execute_result"
    }
   ],
   "source": [
    "lista_desejos"
   ]
  },
  {
   "cell_type": "markdown",
   "metadata": {},
   "source": [
    "#### Função Esperar e Executar - Comportamento Humano\n",
    "***"
   ]
  },
  {
   "cell_type": "code",
   "execution_count": 8,
   "metadata": {},
   "outputs": [],
   "source": [
    "def esperar(segundos=None):\n",
    "    if not segundos:\n",
    "        segundos = random.randrange(2,8)\n",
    "    print(f'Esperando time de {segundos} segundos')\n",
    "    time.sleep(segundos)"
   ]
  },
  {
   "cell_type": "markdown",
   "metadata": {},
   "source": [
    "#### Validação da Função Esperar e Executar\n"
   ]
  },
  {
   "cell_type": "code",
   "execution_count": 9,
   "metadata": {},
   "outputs": [
    {
     "name": "stdout",
     "output_type": "stream",
     "text": [
      "Esperando time de 5 segundos\n"
     ]
    }
   ],
   "source": [
    "segundos = 5\n",
    "esperar(segundos)"
   ]
  },
  {
   "cell_type": "code",
   "execution_count": 10,
   "metadata": {},
   "outputs": [
    {
     "name": "stdout",
     "output_type": "stream",
     "text": [
      "Esperando time de 6 segundos\n"
     ]
    }
   ],
   "source": [
    "esperar()"
   ]
  },
  {
   "cell_type": "markdown",
   "metadata": {},
   "source": [
    "#### Gera Dados de Email\n",
    "***"
   ]
  },
  {
   "cell_type": "code",
   "execution_count": 11,
   "metadata": {},
   "outputs": [],
   "source": [
    "def conexaoEmail():\n",
    "    host = 'smtp-mail.outlook.com'\n",
    "    port = '587'\n",
    "    User = os.environ['email_principal']\n",
    "    senha = os.environ['senha_email']\n",
    "\n",
    "    try:\n",
    "        print('Iniciando conexão')\n",
    "        server = smtplib.SMTP(host, port)\n",
    "        server.starttls()\n",
    "        server.login(user=User, password=senha)\n",
    "\n",
    "        print('Sucesso')\n",
    "        return server    \n",
    "\n",
    "    except Exception as e:\n",
    "        print(f'Ocorreu um erro na conexão. erro: {e}')"
   ]
  },
  {
   "cell_type": "code",
   "execution_count": 12,
   "metadata": {},
   "outputs": [
    {
     "name": "stdout",
     "output_type": "stream",
     "text": [
      "Iniciando conexão\n",
      "Ocorreu um erro na conexão. erro: (535, b'5.7.3 Authentication unsuccessful [ROAP284CA0356.BRAP284.PROD.OUTLOOK.COM 2024-11-15T22:29:23.319Z 08DD054A36351E82]')\n"
     ]
    }
   ],
   "source": [
    "conexaoEmail()"
   ]
  },
  {
   "cell_type": "markdown",
   "metadata": {},
   "source": [
    "#### Validação da Função de Gerar Dados do Email "
   ]
  },
  {
   "cell_type": "code",
   "execution_count": 13,
   "metadata": {},
   "outputs": [],
   "source": [
    "def geraDadosEmail(produto, url, preco_atual):\n",
    "    if len(produto)> 30:\n",
    "        descricao = produto[0:30] + '...'\n",
    "\n",
    "    else:\n",
    "        descricao = produto\n",
    "\n",
    "    assunto = f'Preço caiu! Item: {descricao}'\n",
    "    corpoEmail = f''' \n",
    "    Oportunidade de compra\n",
    "    acesse agora - {produto}\n",
    "    link: {url}\n",
    "    '''\n",
    "\n",
    "    return assunto, corpoEmail"
   ]
  },
  {
   "cell_type": "code",
   "execution_count": 14,
   "metadata": {},
   "outputs": [
    {
     "name": "stdout",
     "output_type": "stream",
     "text": [
      "Preço caiu! Item: curso  \n",
      "    Oportunidade de compra\n",
      "    acesse agora - curso\n",
      "    link: www.google\n",
      "    \n"
     ]
    }
   ],
   "source": [
    "Produto = 'curso'\n",
    "url = 'www.google'\n",
    "Preco = 2903\n",
    "\n",
    "assunto, corpoEmail = geraDadosEmail(Produto, url, Preco)\n",
    "print(assunto, corpoEmail)"
   ]
  },
  {
   "cell_type": "markdown",
   "metadata": {},
   "source": [
    "### Realiza Conexão com o Servidor de E-mail\n",
    "***"
   ]
  },
  {
   "cell_type": "code",
   "execution_count": 15,
   "metadata": {},
   "outputs": [],
   "source": [
    "def conexaoEmail():\n",
    "    host = 'smtp.gmail.com'\n",
    "    port = '587'\n",
    "    User = os.environ['email_principal']\n",
    "    senha = os.environ['senha_email']\n",
    "\n",
    "    try:\n",
    "        print('Iniciando conexão')\n",
    "        server = smtplib.SMTP(host, port)\n",
    "        server.starttls()\n",
    "        server.login(user=User, password=senha)\n",
    "\n",
    "        print('Sucesso')\n",
    "        return server    \n",
    "\n",
    "    except Exception as e:\n",
    "        print(f'Ocorreu um erro na conexão. erro: {e}')"
   ]
  },
  {
   "cell_type": "markdown",
   "metadata": {},
   "source": [
    "#### Validação da Conexão com o Servidor de E-mail"
   ]
  },
  {
   "cell_type": "code",
   "execution_count": 16,
   "metadata": {},
   "outputs": [
    {
     "name": "stdout",
     "output_type": "stream",
     "text": [
      "Iniciando conexão\n",
      "Ocorreu um erro na conexão. erro: (535, b'5.7.8 Username and Password not accepted. For more information, go to\\n5.7.8  https://support.google.com/mail/?p=BadCredentials d9443c01a7336-211d0dc4cbesm17194135ad.21 - gsmtp')\n"
     ]
    }
   ],
   "source": [
    "conexaoEmail()"
   ]
  },
  {
   "cell_type": "markdown",
   "metadata": {},
   "source": [
    "#### Coleta de dados de Lista de Email"
   ]
  },
  {
   "cell_type": "code",
   "execution_count": 17,
   "metadata": {},
   "outputs": [],
   "source": [
    "def coletaEmail(listaEmail):\n",
    "    with open(listaEmail, 'r') as file:\n",
    "        lista = [linha.strip() for linha in file]\n",
    "        return lista"
   ]
  },
  {
   "cell_type": "code",
   "execution_count": 18,
   "metadata": {},
   "outputs": [],
   "source": [
    "caminhoEmails = \"../datasets/lista_emails.txt\"\n",
    "destinatario = coletaEmail(caminhoEmails)"
   ]
  },
  {
   "cell_type": "code",
   "execution_count": 19,
   "metadata": {},
   "outputs": [
    {
     "data": {
      "text/plain": [
       "['kkarenwwow@gmail.com', 'milainy4@gmail.com']"
      ]
     },
     "execution_count": 19,
     "metadata": {},
     "output_type": "execute_result"
    }
   ],
   "source": [
    "destinatario"
   ]
  },
  {
   "cell_type": "markdown",
   "metadata": {},
   "source": [
    "#### Função de Envio de Email\n",
    "***"
   ]
  },
  {
   "cell_type": "code",
   "execution_count": 20,
   "metadata": {},
   "outputs": [],
   "source": [
    "def enviar_email(produto, url, preco_atual, remetente):\n",
    "    \n",
    "    server = conexaoEmail()\n",
    "\n",
    "    assunto, corpoEmail = geraDadosEmail(produto=produto,\n",
    "                                         url=url,\n",
    "                                         preco_atual=preco_atual)\n",
    "    \n",
    "    try:\n",
    "        remetente = remetente\n",
    "        caminhoEmails = \"../datasets/lista_emails.txt\"\n",
    "        destinatario = coletaEmail(caminhoEmails)\n",
    "\n",
    "        msg = f'Subject: {assunto}\\n\\n {corpoEmail}'\n",
    "\n",
    "        \n",
    "        server.sendmail(from_addr=remetente,\n",
    "                        to_addrs=destinatario,\n",
    "                        msg=msg.encode('latin1'))\n",
    "        server.quit()\n",
    "\n",
    "        print('Email enviado')\n",
    "        \n",
    "    except Exception as e:\n",
    "        print(f'Nao foi possivel {e}')"
   ]
  },
  {
   "cell_type": "code",
   "execution_count": 21,
   "metadata": {},
   "outputs": [
    {
     "name": "stdout",
     "output_type": "stream",
     "text": [
      "Iniciando conexão\n"
     ]
    },
    {
     "name": "stdout",
     "output_type": "stream",
     "text": [
      "Ocorreu um erro na conexão. erro: (535, b'5.7.8 Username and Password not accepted. For more information, go to\\n5.7.8  https://support.google.com/mail/?p=BadCredentials d2e1a72fcca58-72477135ecbsm1868656b3a.84 - gsmtp')\n",
      "Nao foi possivel 'NoneType' object has no attribute 'sendmail'\n"
     ]
    }
   ],
   "source": [
    "enviar_email('teste','google', 273, 'milainy4@gmail.com')"
   ]
  },
  {
   "cell_type": "markdown",
   "metadata": {},
   "source": [
    "#### Coletando Dados da Lista de Desejos\n",
    "***"
   ]
  },
  {
   "cell_type": "code",
   "execution_count": null,
   "metadata": {},
   "outputs": [],
   "source": [
    "\n",
    "    \n",
    "    "
   ]
  },
  {
   "cell_type": "code",
   "execution_count": null,
   "metadata": {},
   "outputs": [],
   "source": []
  }
 ],
 "metadata": {
  "kernelspec": {
   "display_name": "EnvRPA",
   "language": "python",
   "name": "python3"
  },
  "language_info": {
   "codemirror_mode": {
    "name": "ipython",
    "version": 3
   },
   "file_extension": ".py",
   "mimetype": "text/x-python",
   "name": "python",
   "nbconvert_exporter": "python",
   "pygments_lexer": "ipython3",
   "version": "3.12.2"
  }
 },
 "nbformat": 4,
 "nbformat_minor": 2
}
