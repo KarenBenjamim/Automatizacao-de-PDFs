{
 "cells": [
  {
   "cell_type": "markdown",
   "metadata": {},
   "source": [
    "## Variaveis de ambiente\n",
    "\n",
    "Configuração de caminhos de execução para encontrar executáveis ou bibliotecas.\n",
    "- Definição de parâmetros de configuração para aplicativos, como URLs de banco de dados, chaves de API e senhas.\n",
    "- Personalização do comportamento do shell, como definição de aliases, variáveis de prompt e configurações de ambiente.\n",
    "- Passagem de informações entre processos ou scripts, como identificadores de sessão ou informações de autenticação.\n",
    "- Controle do comportamento de aplicativos, como especificar o idioma ou a codificação de caracteres."
   ]
  },
  {
   "cell_type": "markdown",
   "metadata": {},
   "source": [
    "## Lib"
   ]
  },
  {
   "cell_type": "markdown",
   "metadata": {},
   "source": [
    "pip install python-dotenve"
   ]
  },
  {
   "cell_type": "code",
   "execution_count": 7,
   "metadata": {},
   "outputs": [
    {
     "data": {
      "text/plain": [
       "True"
      ]
     },
     "execution_count": 7,
     "metadata": {},
     "output_type": "execute_result"
    }
   ],
   "source": [
    "import os\n",
    "import dotenv\n",
    "dotenv.load_dotenv('../config/.env')"
   ]
  },
  {
   "cell_type": "code",
   "execution_count": 10,
   "metadata": {},
   "outputs": [],
   "source": [
    "user = os.environ[\"user_db\"]"
   ]
  }
 ],
 "metadata": {
  "kernelspec": {
   "display_name": "EnvRPA",
   "language": "python",
   "name": "python3"
  },
  "language_info": {
   "codemirror_mode": {
    "name": "ipython",
    "version": 3
   },
   "file_extension": ".py",
   "mimetype": "text/x-python",
   "name": "python",
   "nbconvert_exporter": "python",
   "pygments_lexer": "ipython3",
   "version": "3.12.2"
  }
 },
 "nbformat": 4,
 "nbformat_minor": 2
}
