{
 "cells": [
  {
   "cell_type": "markdown",
   "metadata": {},
   "source": [
    "## Conexão com o banco de dados\n",
    "\n",
    "- pip install mysqlclient\n",
    "- \n",
    "\n",
    "### Docs\n",
    "- SQL Server = https://docs.sqlalchemy.org/en/20/dialects/mssql.html\n",
    "- MySQL = https://docs.sqlalchemy.org/en/20/dialects/mysql.html\n"
   ]
  },
  {
   "cell_type": "code",
   "execution_count": 36,
   "metadata": {},
   "outputs": [],
   "source": [
    "import os\n",
    "import dotenv\n",
    "import pandas as pd\n",
    "from sqlalchemy import create_engine, text"
   ]
  },
  {
   "cell_type": "code",
   "execution_count": 37,
   "metadata": {},
   "outputs": [
    {
     "data": {
      "text/plain": [
       "True"
      ]
     },
     "execution_count": 37,
     "metadata": {},
     "output_type": "execute_result"
    }
   ],
   "source": [
    "dotenv.load_dotenv('../config/.env')"
   ]
  },
  {
   "cell_type": "markdown",
   "metadata": {},
   "source": [
    "## Criando a conexão"
   ]
  },
  {
   "cell_type": "code",
   "execution_count": 38,
   "metadata": {},
   "outputs": [],
   "source": [
    "def conectar_db():\n",
    "    try:\n",
    "        user = os.environ[\"user_db\"]\n",
    "        password = os.environ[\"password_db\"]\n",
    "        host = os.environ[\"host_db\"]\n",
    "\n",
    "        conexao = f\"mysql://{user}:{password}@{host}\"\n",
    "        engine = create_engine(conexao)\n",
    "        conn = engine.connect()\n",
    "        print(\"conexao realizada com sucesso!\")\n",
    "\n",
    "        return conn\n",
    "\n",
    "    except Exception as e:\n",
    "        print(f\"Erro: {e}\")"
   ]
  },
  {
   "cell_type": "code",
   "execution_count": 39,
   "metadata": {},
   "outputs": [
    {
     "name": "stdout",
     "output_type": "stream",
     "text": [
      "conexao realizada com sucesso!\n"
     ]
    }
   ],
   "source": [
    "# validar conexao\n",
    "\n",
    "conn = conectar_db()"
   ]
  },
  {
   "cell_type": "markdown",
   "metadata": {},
   "source": [
    "## Criacao do banco de dados"
   ]
  },
  {
   "cell_type": "code",
   "execution_count": 40,
   "metadata": {},
   "outputs": [],
   "source": [
    "try:\n",
    "    database = \"RPA\"\n",
    "    query = f\"CREATE SCHEMA IF NOT EXISTS {database}\"\n",
    "    conn.execute(text(query))\n",
    "\n",
    "except Exception as e:\n",
    "    print(f\"Nao foi possivel criar o banco de dados. ERRO: {e}\")"
   ]
  },
  {
   "cell_type": "code",
   "execution_count": 41,
   "metadata": {},
   "outputs": [
    {
     "name": "stdout",
     "output_type": "stream",
     "text": [
      "Tabela criada com sucesso no banco RPA\n"
     ]
    }
   ],
   "source": [
    "# Criando tabela\n",
    "\n",
    "query_tabela = '''\n",
    "USE rpa;\n",
    "\n",
    "CREATE TABLE IF NOT EXISTS TB_PESSOA(\n",
    "    COD_PESSOA  INT,\n",
    "    NOME        VARCHAR(200),\n",
    "    IDADE       INT,\n",
    "    PROFISSAO   VARCHAR(100)\n",
    ")\n",
    "'''\n",
    "try:\n",
    "    conn.execute(text(query_tabela))\n",
    "    print(f\"Tabela criada com sucesso no banco {database}\")\n",
    "\n",
    "except Exception as e:\n",
    "    print(f\"Nao foi possivel criar a tabela no banco {database}. ERRO: {e}\")"
   ]
  },
  {
   "cell_type": "markdown",
   "metadata": {},
   "source": [
    "## Coleta de dados de pessoas"
   ]
  },
  {
   "cell_type": "code",
   "execution_count": 42,
   "metadata": {},
   "outputs": [
    {
     "data": {
      "text/html": [
       "<div>\n",
       "<style scoped>\n",
       "    .dataframe tbody tr th:only-of-type {\n",
       "        vertical-align: middle;\n",
       "    }\n",
       "\n",
       "    .dataframe tbody tr th {\n",
       "        vertical-align: top;\n",
       "    }\n",
       "\n",
       "    .dataframe thead th {\n",
       "        text-align: right;\n",
       "    }\n",
       "</style>\n",
       "<table border=\"1\" class=\"dataframe\">\n",
       "  <thead>\n",
       "    <tr style=\"text-align: right;\">\n",
       "      <th></th>\n",
       "      <th>cod_pessoa</th>\n",
       "      <th>pessoa</th>\n",
       "      <th>idade</th>\n",
       "      <th>profissao</th>\n",
       "    </tr>\n",
       "  </thead>\n",
       "  <tbody>\n",
       "    <tr>\n",
       "      <th>0</th>\n",
       "      <td>1</td>\n",
       "      <td>José</td>\n",
       "      <td>35</td>\n",
       "      <td>Professor</td>\n",
       "    </tr>\n",
       "    <tr>\n",
       "      <th>1</th>\n",
       "      <td>2</td>\n",
       "      <td>Ana</td>\n",
       "      <td>52</td>\n",
       "      <td>Enfermeiro</td>\n",
       "    </tr>\n",
       "    <tr>\n",
       "      <th>2</th>\n",
       "      <td>3</td>\n",
       "      <td>Maria</td>\n",
       "      <td>45</td>\n",
       "      <td>Advogado</td>\n",
       "    </tr>\n",
       "    <tr>\n",
       "      <th>3</th>\n",
       "      <td>4</td>\n",
       "      <td>Pedro</td>\n",
       "      <td>28</td>\n",
       "      <td>Engenheiro</td>\n",
       "    </tr>\n",
       "    <tr>\n",
       "      <th>4</th>\n",
       "      <td>5</td>\n",
       "      <td>João</td>\n",
       "      <td>32</td>\n",
       "      <td>Advogado</td>\n",
       "    </tr>\n",
       "  </tbody>\n",
       "</table>\n",
       "</div>"
      ],
      "text/plain": [
       "   cod_pessoa pessoa  idade   profissao\n",
       "0           1   José     35   Professor\n",
       "1           2    Ana     52  Enfermeiro\n",
       "2           3  Maria     45    Advogado\n",
       "3           4  Pedro     28  Engenheiro\n",
       "4           5   João     32    Advogado"
      ]
     },
     "execution_count": 42,
     "metadata": {},
     "output_type": "execute_result"
    }
   ],
   "source": [
    "df = pd.read_csv(\"../datasets/dados_pessoas.csv\", sep=\";\")\n",
    "df.head()"
   ]
  },
  {
   "cell_type": "markdown",
   "metadata": {},
   "source": [
    "## Inserir no banco de dados"
   ]
  },
  {
   "cell_type": "code",
   "execution_count": 43,
   "metadata": {},
   "outputs": [
    {
     "name": "stdout",
     "output_type": "stream",
     "text": [
      "Registro inserido com sucesso José\n",
      "Registro inserido com sucesso Ana\n",
      "Registro inserido com sucesso Maria\n",
      "Registro inserido com sucesso Pedro\n",
      "Registro inserido com sucesso João\n",
      "Registro inserido com sucesso Carlos\n",
      "Registro inserido com sucesso Mariana\n",
      "Registro inserido com sucesso Pedro\n",
      "Registro inserido com sucesso Marina\n",
      "Registro inserido com sucesso José\n",
      "Registro inserido com sucesso Ana\n",
      "Registro inserido com sucesso Pedro\n",
      "Registro inserido com sucesso Mariana\n",
      "Registro inserido com sucesso Maria\n",
      "Registro inserido com sucesso Carlos\n",
      "Registro inserido com sucesso Leandro\n",
      "Registro inserido com sucesso Daniele\n",
      "Registro inserido com sucesso José\n",
      "Registro inserido com sucesso Mariana\n",
      "Registro inserido com sucesso Rodrigo\n"
     ]
    }
   ],
   "source": [
    "for registros in df.itertuples():\n",
    "    cod_pessoa = registros.cod_pessoa\n",
    "    pessoa = registros.pessoa\n",
    "    idade = registros.idade\n",
    "    profissao = registros.profissao\n",
    "\n",
    "    try:\n",
    "        query = f\"\"\" INSERT INTO TB_PESSOA (COD_PESSOA, NOME, IDADE, PROFISSAO)\n",
    "                VALUES ({cod_pessoa}, '{pessoa}', {idade}, '{profissao}')\n",
    "        \"\"\"\n",
    "\n",
    "        conn.execute(text(query))\n",
    "        print(f'Registro inserido com sucesso {pessoa}')\n",
    "\n",
    "\n",
    "    except Exception as e:\n",
    "        print(f'nao foi possivel inserir o registro {pessoa}. erro {e}')"
   ]
  },
  {
   "cell_type": "markdown",
   "metadata": {},
   "source": [
    "## Extracao de dado"
   ]
  },
  {
   "cell_type": "code",
   "execution_count": 44,
   "metadata": {},
   "outputs": [
    {
     "name": "stdout",
     "output_type": "stream",
     "text": [
      "    COD_PESSOA     NOME  IDADE    PROFISSAO\n",
      "0            1     José     35    Professor\n",
      "1            2      Ana     52   Enfermeiro\n",
      "2            3    Maria     45     Advogado\n",
      "3            4    Pedro     28   Engenheiro\n",
      "4            5     João     32     Advogado\n",
      "5            6   Carlos     40       Médico\n",
      "6            7  Mariana     22   Enfermeiro\n",
      "7            8    Pedro     50  Programador\n",
      "8            9   Marina     58       Médico\n",
      "9           10     José     30    Professor\n",
      "10          11      Ana     28  Programador\n",
      "11          12    Pedro     42   Engenheiro\n",
      "12          13  Mariana     36     Advogado\n",
      "13          14    Maria     60       Médico\n",
      "14          15   Carlos     25   Engenheiro\n",
      "15          16  Leandro     48    Professor\n",
      "16          17  Daniele     33     Advogado\n",
      "17          18     José     55   Enfermeiro\n",
      "18          19  Mariana     20     Advogado\n",
      "19          20  Rodrigo     38       Médico\n"
     ]
    }
   ],
   "source": [
    "query =  \"\"\"\n",
    "SELECT *\n",
    "FROM TB_PESSOA;\n",
    "\"\"\"\n",
    "\n",
    "try:\n",
    "    dados_coletados = pd.read_sql_query(query, conn)\n",
    "    print(dados_coletados)\n",
    "\n",
    "except Exception as e:\n",
    "    print(f'Nao foi possivel realizar a consulta. erro {e}')"
   ]
  },
  {
   "cell_type": "code",
   "execution_count": 46,
   "metadata": {},
   "outputs": [
    {
     "name": "stdout",
     "output_type": "stream",
     "text": [
      "   COD_PESSOA   NOME  IDADE    PROFISSAO\n",
      "0           8  Pedro     50  Programador\n",
      "1          11    Ana     28  Programador\n"
     ]
    }
   ],
   "source": [
    "query =  \"\"\"\n",
    "SELECT *\n",
    "FROM TB_PESSOA\n",
    "WHERE PROFISSAO = \"Programador\";\n",
    "\"\"\"\n",
    "\n",
    "try:\n",
    "    dados_coletados = pd.read_sql_query(query, conn)\n",
    "    print(dados_coletados)\n",
    "\n",
    "except Exception as e:\n",
    "    print(f'Nao foi possivel realizar a consulta. erro {e}')"
   ]
  }
 ],
 "metadata": {
  "kernelspec": {
   "display_name": "EnvRPA",
   "language": "python",
   "name": "python3"
  },
  "language_info": {
   "codemirror_mode": {
    "name": "ipython",
    "version": 3
   },
   "file_extension": ".py",
   "mimetype": "text/x-python",
   "name": "python",
   "nbconvert_exporter": "python",
   "pygments_lexer": "ipython3",
   "version": "3.12.2"
  }
 },
 "nbformat": 4,
 "nbformat_minor": 2
}
