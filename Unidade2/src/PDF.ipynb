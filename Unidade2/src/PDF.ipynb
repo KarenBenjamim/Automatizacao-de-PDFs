{
 "cells": [
  {
   "cell_type": "markdown",
   "metadata": {},
   "source": [
    "# Automatização de PDFs"
   ]
  },
  {
   "cell_type": "markdown",
   "metadata": {},
   "source": [
    "## Bibliotecas"
   ]
  },
  {
   "cell_type": "code",
   "execution_count": 2,
   "metadata": {},
   "outputs": [],
   "source": [
    "import os\n",
    "import pandas as pd\n",
    "import PyPDF2 as PDF"
   ]
  },
  {
   "cell_type": "markdown",
   "metadata": {},
   "source": [
    "## Variaveis"
   ]
  },
  {
   "cell_type": "code",
   "execution_count": 3,
   "metadata": {},
   "outputs": [
    {
     "name": "stdout",
     "output_type": "stream",
     "text": [
      "['Agatha Fogaça.pdf', 'Alexandre da Mota.pdf', 'Alexia Aragão.pdf', 'Amanda Duarte.pdf', 'Amanda Fernandes.pdf', 'Ana Carolina Gonçalves.pdf', 'Ana Carolina Sales.pdf', 'Ana Clara Almeida.pdf', 'Ana Julia Mendes.pdf', 'Ana Julia Nunes.pdf', 'Ana Lívia da Cunha.pdf', 'Ana Vitória Santos.pdf', 'Arthur Cardoso.pdf', 'Augusto Silva.pdf', 'Benjamin Sales.pdf', 'Benício Freitas.pdf', 'Bernardo da Mata.pdf', 'Bianca Porto.pdf', 'Breno Porto.pdf', 'Bruna Cunha.pdf', 'Bryan Fernandes.pdf', 'Bárbara da Rocha.pdf', 'Caroline Peixoto.pdf', 'Caroline Rodrigues.pdf', 'Cauã da Conceição.pdf', 'Cauê Viana.pdf', 'Clara Peixoto.pdf', 'Clarice Barbosa.pdf', 'Davi Lucca Freitas.pdf', 'Dr. André Monteiro.pdf', 'Dr. André Silva.pdf', 'Dr. Gabriel Mendes.pdf', 'Dr. Miguel Nascimento.pdf', 'Dr. Nathan Pereira.pdf', 'Dra. Caroline Dias.pdf', 'Dra. Isis Santos.pdf', 'Dra. Maria Alice Castro.pdf', 'Dra. Maria Alice Pires.pdf', 'Dra. Maria Julia Cardoso.pdf', 'Dra. Sarah Ramos.pdf', 'Emanuel Melo.pdf', 'Emilly Cunha.pdf', 'Enzo Cunha.pdf', 'Fernanda Lopes.pdf', 'Fernando Lima.pdf', 'Gabriel Rocha.pdf', 'Gabriela Lima.pdf', 'Gabrielly Nunes.pdf', 'Guilherme Caldeira.pdf', 'Gustavo Henrique Fogaça.pdf', 'Heitor Carvalho.pdf', 'Ian Monteiro.pdf', 'Igor Sales.pdf', 'Isadora Moreira.pdf', 'Isis das Neves.pdf', 'Joaquim da Cunha.pdf', 'João Gabriel Moraes.pdf', 'Julia da Conceição.pdf', 'Juliana Azevedo.pdf', 'Juliana da Cruz.pdf', 'Kaique Monteiro.pdf', 'Kaique Peixoto.pdf', 'Kamilly Cardoso.pdf', 'Kamilly Nascimento.pdf', 'Lara Novaes.pdf', 'Larissa Carvalho.pdf', 'Laura Almeida.pdf', 'Laura Dias.pdf', 'Lavínia da Conceição.pdf', 'Leandro Melo.pdf', 'Leonardo Costela.pdf', 'Letícia Mendes.pdf', 'Levi Duarte.pdf', 'Lorena Costa.pdf', 'Luana Sales.pdf', 'Lucas Aragão.pdf', 'Lucas Rodrigues.pdf', 'Luiz Gustavo Fernandes.pdf', 'Luiz Miguel Gomes.pdf', 'Luna Costa.pdf', 'Manuela da Mata.pdf', 'Marcelo Alves.pdf', 'Marcelo Moura.pdf', 'Marcelo Nascimento.pdf', 'Marcelo Souza.pdf', 'Maria Alice Ramos.pdf', 'Maria Eduarda Souza.pdf', 'Maria Fernanda Carvalho.pdf', 'Maria Luiza Novaes.pdf', 'Maria Sophia da Mota.pdf', 'Mariana Freitas.pdf', 'Mariane Araújo.pdf', 'Marina da Luz.pdf', 'Marina Silva.pdf', 'Maysa Lopes.pdf', 'Maysa Moura.pdf', 'Miguel da Mota.pdf', 'Miguel Pinto.pdf', 'Miguel Silva.pdf', 'Milena Farias.pdf', 'Mirella Souza.pdf', 'Murilo Fernandes.pdf', 'Nicolas Nascimento.pdf', 'Nina Caldeira.pdf', 'Nina das Neves.pdf', 'Nina Moraes.pdf', 'Noah Alves.pdf', 'Otávio da Rosa.pdf', 'Paulo Costa.pdf', 'Pedro Henrique Dias.pdf', 'Pedro Henrique Oliveira.pdf', 'Pedro Lucas Castro.pdf', 'Pedro Miguel da Costa.pdf', 'Pedro Miguel Fogaça.pdf', 'Pedro Miguel Viana.pdf', 'Pedro Nogueira.pdf', 'Pietra Rocha.pdf', 'Raquel Almeida.pdf', 'Raul da Rocha.pdf', 'Rebeca Gomes.pdf', 'Rebeca Lopes.pdf', 'Rodrigo Castro.pdf', 'Sabrina Araújo.pdf', 'Samuel Martins.pdf', 'Sofia da Cunha.pdf', 'Sofia da Rosa.pdf', 'Sr. Bryan da Paz.pdf', 'Sr. Calebe Vieira.pdf', 'Sr. Davi Lucca Lima.pdf', 'Sr. Juan Lopes.pdf', 'Sr. Ryan Moreira.pdf', 'Sra. Júlia Fernandes.pdf', 'Sra. Maria Clara da Cunha.pdf', 'Sra. Milena Caldeira.pdf', 'Srta. Bianca das Neves.pdf', 'Srta. Eduarda Carvalho.pdf', 'Srta. Elisa Gomes.pdf', 'Srta. Letícia Pinto.pdf', 'Srta. Natália Almeida.pdf', 'Theo Lima.pdf', 'Thiago Duarte.pdf', 'Valentina da Cunha.pdf', 'Valentina Mendes.pdf', 'Vicente Ferreira.pdf', 'Vitor Gabriel Carvalho.pdf', 'Vitória Dias.pdf', 'Yago Lima.pdf', 'Yago Peixoto.pdf', 'Yasmin Souza.pdf']\n"
     ]
    }
   ],
   "source": [
    "Path = \"../datasets/Sistema de RH/\"\n",
    "list_path = os.listdir(Path)\n",
    "\n",
    "print(list_path)"
   ]
  },
  {
   "cell_type": "markdown",
   "metadata": {},
   "source": [
    "## Leitura dos PDFs"
   ]
  },
  {
   "cell_type": "code",
   "execution_count": 4,
   "metadata": {},
   "outputs": [],
   "source": [
    "try:\n",
    "    TextPDF = []\n",
    "    for file in list_path:\n",
    "        file_path = Path + file\n",
    "\n",
    "        with open(file_path, 'rb') as file:\n",
    "            reader = PDF.PdfReader(file)\n",
    "            num_pages = len(reader.pages)\n",
    "\n",
    "            for page_num in range(num_pages):\n",
    "                page = reader.pages[page_num]\n",
    "                text = page.extract_text()\n",
    "\n",
    "            TextPDF.append(text)\n",
    "\n",
    "\n",
    "except Exception as e:\n",
    "    print(f\"Não foi possivel realizar a leitura do PDF. ERRO: {e}\")"
   ]
  },
  {
   "cell_type": "code",
   "execution_count": 5,
   "metadata": {},
   "outputs": [
    {
     "name": "stdout",
     "output_type": "stream",
     "text": [
      "Registro de Pessoa\n",
      "Nome: Agatha Fogaça\n",
      "Data de Nascimento: 16/01/1999\n",
      "Estado Civil: Viúvo\n",
      "Cargo: Junior\n",
      "Função de Trabalho: Desenvolvedor de Software\n",
      "Data de Admissão: 15/04/2019\n",
      "Tipo de Contrato: Híbrido\n",
      "Salário: 4542.04\n"
     ]
    }
   ],
   "source": [
    "print(TextPDF[0])"
   ]
  },
  {
   "cell_type": "markdown",
   "metadata": {},
   "source": [
    "## Tratamento de texto / Integração de dados"
   ]
  },
  {
   "cell_type": "code",
   "execution_count": 6,
   "metadata": {},
   "outputs": [],
   "source": [
    "def extract_dados(TextPDF):\n",
    "    dados = {}\n",
    "    rows = TextPDF.split('\\n')\n",
    "    for row in rows[1:]:\n",
    "        part = row.split(':')\n",
    "        if len(part) == 2:\n",
    "            key = part[0].strip()\n",
    "            value = part[1].strip()\n",
    "            dados[key] = value\n",
    "    dataframe = pd.DataFrame([dados])\n",
    "    return dataframe\n"
   ]
  },
  {
   "cell_type": "code",
   "execution_count": 7,
   "metadata": {},
   "outputs": [
    {
     "data": {
      "text/html": [
       "<div>\n",
       "<style scoped>\n",
       "    .dataframe tbody tr th:only-of-type {\n",
       "        vertical-align: middle;\n",
       "    }\n",
       "\n",
       "    .dataframe tbody tr th {\n",
       "        vertical-align: top;\n",
       "    }\n",
       "\n",
       "    .dataframe thead th {\n",
       "        text-align: right;\n",
       "    }\n",
       "</style>\n",
       "<table border=\"1\" class=\"dataframe\">\n",
       "  <thead>\n",
       "    <tr style=\"text-align: right;\">\n",
       "      <th></th>\n",
       "      <th>Nome</th>\n",
       "      <th>Data de Nascimento</th>\n",
       "      <th>Estado Civil</th>\n",
       "      <th>Cargo</th>\n",
       "      <th>Função de Trabalho</th>\n",
       "      <th>Data de Admissão</th>\n",
       "      <th>Tipo de Contrato</th>\n",
       "      <th>Salário</th>\n",
       "    </tr>\n",
       "  </thead>\n",
       "  <tbody>\n",
       "    <tr>\n",
       "      <th>0</th>\n",
       "      <td>Agatha Fogaça</td>\n",
       "      <td>16/01/1999</td>\n",
       "      <td>Viúvo</td>\n",
       "      <td>Junior</td>\n",
       "      <td>Desenvolvedor de Software</td>\n",
       "      <td>15/04/2019</td>\n",
       "      <td>Híbrido</td>\n",
       "      <td>4542.04</td>\n",
       "    </tr>\n",
       "  </tbody>\n",
       "</table>\n",
       "</div>"
      ],
      "text/plain": [
       "            Nome Data de Nascimento Estado Civil   Cargo  \\\n",
       "0  Agatha Fogaça         16/01/1999        Viúvo  Junior   \n",
       "\n",
       "          Função de Trabalho Data de Admissão Tipo de Contrato  Salário  \n",
       "0  Desenvolvedor de Software       15/04/2019          Híbrido  4542.04  "
      ]
     },
     "execution_count": 7,
     "metadata": {},
     "output_type": "execute_result"
    }
   ],
   "source": [
    "extract_dados(TextPDF[0])"
   ]
  },
  {
   "cell_type": "markdown",
   "metadata": {},
   "source": [
    "## Automação"
   ]
  },
  {
   "cell_type": "code",
   "execution_count": 8,
   "metadata": {},
   "outputs": [],
   "source": [
    "list_df = []\n",
    "\n",
    "for text in TextPDF:\n",
    "    dataframe = extract_dados(text)\n",
    "    list_df.append(dataframe)\n",
    "\n",
    "df = pd.concat(list_df)"
   ]
  },
  {
   "cell_type": "code",
   "execution_count": 9,
   "metadata": {},
   "outputs": [
    {
     "data": {
      "text/html": [
       "<div>\n",
       "<style scoped>\n",
       "    .dataframe tbody tr th:only-of-type {\n",
       "        vertical-align: middle;\n",
       "    }\n",
       "\n",
       "    .dataframe tbody tr th {\n",
       "        vertical-align: top;\n",
       "    }\n",
       "\n",
       "    .dataframe thead th {\n",
       "        text-align: right;\n",
       "    }\n",
       "</style>\n",
       "<table border=\"1\" class=\"dataframe\">\n",
       "  <thead>\n",
       "    <tr style=\"text-align: right;\">\n",
       "      <th></th>\n",
       "      <th>Nome</th>\n",
       "      <th>Data de Nascimento</th>\n",
       "      <th>Estado Civil</th>\n",
       "      <th>Cargo</th>\n",
       "      <th>Função de Trabalho</th>\n",
       "      <th>Data de Admissão</th>\n",
       "      <th>Tipo de Contrato</th>\n",
       "      <th>Salário</th>\n",
       "    </tr>\n",
       "  </thead>\n",
       "  <tbody>\n",
       "    <tr>\n",
       "      <th>0</th>\n",
       "      <td>Agatha Fogaça</td>\n",
       "      <td>16/01/1999</td>\n",
       "      <td>Viúvo</td>\n",
       "      <td>Junior</td>\n",
       "      <td>Desenvolvedor de Software</td>\n",
       "      <td>15/04/2019</td>\n",
       "      <td>Híbrido</td>\n",
       "      <td>4542.04</td>\n",
       "    </tr>\n",
       "    <tr>\n",
       "      <th>0</th>\n",
       "      <td>Alexandre da Mota</td>\n",
       "      <td>10/11/1986</td>\n",
       "      <td>Casado</td>\n",
       "      <td>Junior</td>\n",
       "      <td>Desenvolvedor de Software</td>\n",
       "      <td>27/11/2014</td>\n",
       "      <td>Híbrido</td>\n",
       "      <td>9955.96</td>\n",
       "    </tr>\n",
       "    <tr>\n",
       "      <th>0</th>\n",
       "      <td>Alexia Aragão</td>\n",
       "      <td>19/03/1997</td>\n",
       "      <td>Casado</td>\n",
       "      <td>Especialista</td>\n",
       "      <td>Engenheiro de Machine Learning e Inteligência ...</td>\n",
       "      <td>09/07/2005</td>\n",
       "      <td>Híbrido</td>\n",
       "      <td>20627.699999999997</td>\n",
       "    </tr>\n",
       "    <tr>\n",
       "      <th>0</th>\n",
       "      <td>Amanda Duarte</td>\n",
       "      <td>18/06/1994</td>\n",
       "      <td>Viúvo</td>\n",
       "      <td>Especialista</td>\n",
       "      <td>Cientista de Dados</td>\n",
       "      <td>13/07/2006</td>\n",
       "      <td>Remoto</td>\n",
       "      <td>18824.550000000003</td>\n",
       "    </tr>\n",
       "    <tr>\n",
       "      <th>0</th>\n",
       "      <td>Amanda Fernandes</td>\n",
       "      <td>26/09/1989</td>\n",
       "      <td>Casado</td>\n",
       "      <td>Junior</td>\n",
       "      <td>Desenvolvedor Full Stack</td>\n",
       "      <td>17/11/2023</td>\n",
       "      <td>Presencial</td>\n",
       "      <td>3511.46</td>\n",
       "    </tr>\n",
       "  </tbody>\n",
       "</table>\n",
       "</div>"
      ],
      "text/plain": [
       "                Nome Data de Nascimento Estado Civil         Cargo  \\\n",
       "0      Agatha Fogaça         16/01/1999        Viúvo        Junior   \n",
       "0  Alexandre da Mota         10/11/1986       Casado        Junior   \n",
       "0      Alexia Aragão         19/03/1997       Casado  Especialista   \n",
       "0      Amanda Duarte         18/06/1994        Viúvo  Especialista   \n",
       "0   Amanda Fernandes         26/09/1989       Casado        Junior   \n",
       "\n",
       "                                  Função de Trabalho Data de Admissão  \\\n",
       "0                          Desenvolvedor de Software       15/04/2019   \n",
       "0                          Desenvolvedor de Software       27/11/2014   \n",
       "0  Engenheiro de Machine Learning e Inteligência ...       09/07/2005   \n",
       "0                                 Cientista de Dados       13/07/2006   \n",
       "0                           Desenvolvedor Full Stack       17/11/2023   \n",
       "\n",
       "  Tipo de Contrato             Salário  \n",
       "0          Híbrido             4542.04  \n",
       "0          Híbrido             9955.96  \n",
       "0          Híbrido  20627.699999999997  \n",
       "0           Remoto  18824.550000000003  \n",
       "0       Presencial             3511.46  "
      ]
     },
     "execution_count": 9,
     "metadata": {},
     "output_type": "execute_result"
    }
   ],
   "source": [
    "df.head()"
   ]
  },
  {
   "cell_type": "markdown",
   "metadata": {},
   "source": [
    "### code para obter as informações sobre as colunas do DataFrame"
   ]
  },
  {
   "cell_type": "code",
   "execution_count": 10,
   "metadata": {},
   "outputs": [
    {
     "name": "stdout",
     "output_type": "stream",
     "text": [
      "<class 'pandas.core.frame.DataFrame'>\n",
      "Index: 149 entries, 0 to 0\n",
      "Data columns (total 8 columns):\n",
      " #   Column              Non-Null Count  Dtype \n",
      "---  ------              --------------  ----- \n",
      " 0   Nome                149 non-null    object\n",
      " 1   Data de Nascimento  149 non-null    object\n",
      " 2   Estado Civil        149 non-null    object\n",
      " 3   Cargo               149 non-null    object\n",
      " 4   Função de Trabalho  149 non-null    object\n",
      " 5   Data de Admissão    149 non-null    object\n",
      " 6   Tipo de Contrato    149 non-null    object\n",
      " 7   Salário             149 non-null    object\n",
      "dtypes: object(8)\n",
      "memory usage: 10.5+ KB\n"
     ]
    }
   ],
   "source": [
    "df.info()"
   ]
  },
  {
   "cell_type": "markdown",
   "metadata": {},
   "source": [
    "### Verificar quantos campos em branco existem em cada coluna"
   ]
  },
  {
   "cell_type": "code",
   "execution_count": 11,
   "metadata": {},
   "outputs": [
    {
     "data": {
      "text/plain": [
       "Nome                  0\n",
       "Data de Nascimento    0\n",
       "Estado Civil          0\n",
       "Cargo                 0\n",
       "Função de Trabalho    0\n",
       "Data de Admissão      0\n",
       "Tipo de Contrato      0\n",
       "Salário               0\n",
       "dtype: int64"
      ]
     },
     "execution_count": 11,
     "metadata": {},
     "output_type": "execute_result"
    }
   ],
   "source": [
    "df.isna().sum()"
   ]
  },
  {
   "cell_type": "markdown",
   "metadata": {},
   "source": [
    "## Corrigindo tipos de valores"
   ]
  },
  {
   "cell_type": "code",
   "execution_count": 12,
   "metadata": {},
   "outputs": [],
   "source": [
    "#Salario\n",
    "df['Salário'] = df['Salário'].astype('float').round(2)\n",
    "#data de nascimento\n",
    "df['Data de Nascimento'] = pd.to_datetime(df['Data de Nascimento'], format='%d/%m/%Y').dt.floor('d')\n",
    "# Data de Admissão\n",
    "df['Data de Admissão'] = pd.to_datetime(df['Data de Admissão'], format='%d/%m/%Y').dt.floor('d')"
   ]
  },
  {
   "cell_type": "code",
   "execution_count": 13,
   "metadata": {},
   "outputs": [
    {
     "data": {
      "text/html": [
       "<div>\n",
       "<style scoped>\n",
       "    .dataframe tbody tr th:only-of-type {\n",
       "        vertical-align: middle;\n",
       "    }\n",
       "\n",
       "    .dataframe tbody tr th {\n",
       "        vertical-align: top;\n",
       "    }\n",
       "\n",
       "    .dataframe thead th {\n",
       "        text-align: right;\n",
       "    }\n",
       "</style>\n",
       "<table border=\"1\" class=\"dataframe\">\n",
       "  <thead>\n",
       "    <tr style=\"text-align: right;\">\n",
       "      <th></th>\n",
       "      <th>Nome</th>\n",
       "      <th>Data de Nascimento</th>\n",
       "      <th>Estado Civil</th>\n",
       "      <th>Cargo</th>\n",
       "      <th>Função de Trabalho</th>\n",
       "      <th>Data de Admissão</th>\n",
       "      <th>Tipo de Contrato</th>\n",
       "      <th>Salário</th>\n",
       "    </tr>\n",
       "  </thead>\n",
       "  <tbody>\n",
       "    <tr>\n",
       "      <th>0</th>\n",
       "      <td>Agatha Fogaça</td>\n",
       "      <td>1999-01-16</td>\n",
       "      <td>Viúvo</td>\n",
       "      <td>Junior</td>\n",
       "      <td>Desenvolvedor de Software</td>\n",
       "      <td>2019-04-15</td>\n",
       "      <td>Híbrido</td>\n",
       "      <td>4542.04</td>\n",
       "    </tr>\n",
       "    <tr>\n",
       "      <th>0</th>\n",
       "      <td>Alexandre da Mota</td>\n",
       "      <td>1986-11-10</td>\n",
       "      <td>Casado</td>\n",
       "      <td>Junior</td>\n",
       "      <td>Desenvolvedor de Software</td>\n",
       "      <td>2014-11-27</td>\n",
       "      <td>Híbrido</td>\n",
       "      <td>9955.96</td>\n",
       "    </tr>\n",
       "    <tr>\n",
       "      <th>0</th>\n",
       "      <td>Alexia Aragão</td>\n",
       "      <td>1997-03-19</td>\n",
       "      <td>Casado</td>\n",
       "      <td>Especialista</td>\n",
       "      <td>Engenheiro de Machine Learning e Inteligência ...</td>\n",
       "      <td>2005-07-09</td>\n",
       "      <td>Híbrido</td>\n",
       "      <td>20627.70</td>\n",
       "    </tr>\n",
       "    <tr>\n",
       "      <th>0</th>\n",
       "      <td>Amanda Duarte</td>\n",
       "      <td>1994-06-18</td>\n",
       "      <td>Viúvo</td>\n",
       "      <td>Especialista</td>\n",
       "      <td>Cientista de Dados</td>\n",
       "      <td>2006-07-13</td>\n",
       "      <td>Remoto</td>\n",
       "      <td>18824.55</td>\n",
       "    </tr>\n",
       "    <tr>\n",
       "      <th>0</th>\n",
       "      <td>Amanda Fernandes</td>\n",
       "      <td>1989-09-26</td>\n",
       "      <td>Casado</td>\n",
       "      <td>Junior</td>\n",
       "      <td>Desenvolvedor Full Stack</td>\n",
       "      <td>2023-11-17</td>\n",
       "      <td>Presencial</td>\n",
       "      <td>3511.46</td>\n",
       "    </tr>\n",
       "  </tbody>\n",
       "</table>\n",
       "</div>"
      ],
      "text/plain": [
       "                Nome Data de Nascimento Estado Civil         Cargo  \\\n",
       "0      Agatha Fogaça         1999-01-16        Viúvo        Junior   \n",
       "0  Alexandre da Mota         1986-11-10       Casado        Junior   \n",
       "0      Alexia Aragão         1997-03-19       Casado  Especialista   \n",
       "0      Amanda Duarte         1994-06-18        Viúvo  Especialista   \n",
       "0   Amanda Fernandes         1989-09-26       Casado        Junior   \n",
       "\n",
       "                                  Função de Trabalho Data de Admissão  \\\n",
       "0                          Desenvolvedor de Software       2019-04-15   \n",
       "0                          Desenvolvedor de Software       2014-11-27   \n",
       "0  Engenheiro de Machine Learning e Inteligência ...       2005-07-09   \n",
       "0                                 Cientista de Dados       2006-07-13   \n",
       "0                           Desenvolvedor Full Stack       2023-11-17   \n",
       "\n",
       "  Tipo de Contrato   Salário  \n",
       "0          Híbrido   4542.04  \n",
       "0          Híbrido   9955.96  \n",
       "0          Híbrido  20627.70  \n",
       "0           Remoto  18824.55  \n",
       "0       Presencial   3511.46  "
      ]
     },
     "execution_count": 13,
     "metadata": {},
     "output_type": "execute_result"
    }
   ],
   "source": [
    "df.head()"
   ]
  },
  {
   "cell_type": "code",
   "execution_count": 14,
   "metadata": {},
   "outputs": [
    {
     "name": "stdout",
     "output_type": "stream",
     "text": [
      "<class 'pandas.core.frame.DataFrame'>\n",
      "Index: 149 entries, 0 to 0\n",
      "Data columns (total 8 columns):\n",
      " #   Column              Non-Null Count  Dtype         \n",
      "---  ------              --------------  -----         \n",
      " 0   Nome                149 non-null    object        \n",
      " 1   Data de Nascimento  149 non-null    datetime64[ns]\n",
      " 2   Estado Civil        149 non-null    object        \n",
      " 3   Cargo               149 non-null    object        \n",
      " 4   Função de Trabalho  149 non-null    object        \n",
      " 5   Data de Admissão    149 non-null    datetime64[ns]\n",
      " 6   Tipo de Contrato    149 non-null    object        \n",
      " 7   Salário             149 non-null    float64       \n",
      "dtypes: datetime64[ns](2), float64(1), object(5)\n",
      "memory usage: 10.5+ KB\n"
     ]
    }
   ],
   "source": [
    "df.info()"
   ]
  },
  {
   "cell_type": "markdown",
   "metadata": {},
   "source": [
    "## Enriquecimento de Dados"
   ]
  },
  {
   "cell_type": "code",
   "execution_count": 15,
   "metadata": {},
   "outputs": [],
   "source": [
    "df['Idade'] = ((pd.to_datetime('today') - df['Data de Nascimento']).dt.days / 365.25).astype(int)\n",
    "df['Anos de Trabalho'] = ((pd.to_datetime('today') - df['Data de Admissão']).dt.days / 365.25).astype(int)"
   ]
  },
  {
   "cell_type": "code",
   "execution_count": 16,
   "metadata": {},
   "outputs": [
    {
     "data": {
      "text/html": [
       "<div>\n",
       "<style scoped>\n",
       "    .dataframe tbody tr th:only-of-type {\n",
       "        vertical-align: middle;\n",
       "    }\n",
       "\n",
       "    .dataframe tbody tr th {\n",
       "        vertical-align: top;\n",
       "    }\n",
       "\n",
       "    .dataframe thead th {\n",
       "        text-align: right;\n",
       "    }\n",
       "</style>\n",
       "<table border=\"1\" class=\"dataframe\">\n",
       "  <thead>\n",
       "    <tr style=\"text-align: right;\">\n",
       "      <th></th>\n",
       "      <th>Nome</th>\n",
       "      <th>Data de Nascimento</th>\n",
       "      <th>Estado Civil</th>\n",
       "      <th>Cargo</th>\n",
       "      <th>Função de Trabalho</th>\n",
       "      <th>Data de Admissão</th>\n",
       "      <th>Tipo de Contrato</th>\n",
       "      <th>Salário</th>\n",
       "      <th>Idade</th>\n",
       "      <th>Anos de Trabalho</th>\n",
       "    </tr>\n",
       "  </thead>\n",
       "  <tbody>\n",
       "    <tr>\n",
       "      <th>0</th>\n",
       "      <td>Agatha Fogaça</td>\n",
       "      <td>1999-01-16</td>\n",
       "      <td>Viúvo</td>\n",
       "      <td>Junior</td>\n",
       "      <td>Desenvolvedor de Software</td>\n",
       "      <td>2019-04-15</td>\n",
       "      <td>Híbrido</td>\n",
       "      <td>4542.04</td>\n",
       "      <td>25</td>\n",
       "      <td>5</td>\n",
       "    </tr>\n",
       "    <tr>\n",
       "      <th>0</th>\n",
       "      <td>Alexandre da Mota</td>\n",
       "      <td>1986-11-10</td>\n",
       "      <td>Casado</td>\n",
       "      <td>Junior</td>\n",
       "      <td>Desenvolvedor de Software</td>\n",
       "      <td>2014-11-27</td>\n",
       "      <td>Híbrido</td>\n",
       "      <td>9955.96</td>\n",
       "      <td>37</td>\n",
       "      <td>9</td>\n",
       "    </tr>\n",
       "    <tr>\n",
       "      <th>0</th>\n",
       "      <td>Alexia Aragão</td>\n",
       "      <td>1997-03-19</td>\n",
       "      <td>Casado</td>\n",
       "      <td>Especialista</td>\n",
       "      <td>Engenheiro de Machine Learning e Inteligência ...</td>\n",
       "      <td>2005-07-09</td>\n",
       "      <td>Híbrido</td>\n",
       "      <td>20627.70</td>\n",
       "      <td>27</td>\n",
       "      <td>19</td>\n",
       "    </tr>\n",
       "    <tr>\n",
       "      <th>0</th>\n",
       "      <td>Amanda Duarte</td>\n",
       "      <td>1994-06-18</td>\n",
       "      <td>Viúvo</td>\n",
       "      <td>Especialista</td>\n",
       "      <td>Cientista de Dados</td>\n",
       "      <td>2006-07-13</td>\n",
       "      <td>Remoto</td>\n",
       "      <td>18824.55</td>\n",
       "      <td>30</td>\n",
       "      <td>18</td>\n",
       "    </tr>\n",
       "    <tr>\n",
       "      <th>0</th>\n",
       "      <td>Amanda Fernandes</td>\n",
       "      <td>1989-09-26</td>\n",
       "      <td>Casado</td>\n",
       "      <td>Junior</td>\n",
       "      <td>Desenvolvedor Full Stack</td>\n",
       "      <td>2023-11-17</td>\n",
       "      <td>Presencial</td>\n",
       "      <td>3511.46</td>\n",
       "      <td>34</td>\n",
       "      <td>0</td>\n",
       "    </tr>\n",
       "  </tbody>\n",
       "</table>\n",
       "</div>"
      ],
      "text/plain": [
       "                Nome Data de Nascimento Estado Civil         Cargo  \\\n",
       "0      Agatha Fogaça         1999-01-16        Viúvo        Junior   \n",
       "0  Alexandre da Mota         1986-11-10       Casado        Junior   \n",
       "0      Alexia Aragão         1997-03-19       Casado  Especialista   \n",
       "0      Amanda Duarte         1994-06-18        Viúvo  Especialista   \n",
       "0   Amanda Fernandes         1989-09-26       Casado        Junior   \n",
       "\n",
       "                                  Função de Trabalho Data de Admissão  \\\n",
       "0                          Desenvolvedor de Software       2019-04-15   \n",
       "0                          Desenvolvedor de Software       2014-11-27   \n",
       "0  Engenheiro de Machine Learning e Inteligência ...       2005-07-09   \n",
       "0                                 Cientista de Dados       2006-07-13   \n",
       "0                           Desenvolvedor Full Stack       2023-11-17   \n",
       "\n",
       "  Tipo de Contrato   Salário  Idade  Anos de Trabalho  \n",
       "0          Híbrido   4542.04     25                 5  \n",
       "0          Híbrido   9955.96     37                 9  \n",
       "0          Híbrido  20627.70     27                19  \n",
       "0           Remoto  18824.55     30                18  \n",
       "0       Presencial   3511.46     34                 0  "
      ]
     },
     "execution_count": 16,
     "metadata": {},
     "output_type": "execute_result"
    }
   ],
   "source": [
    "df.head()"
   ]
  },
  {
   "cell_type": "markdown",
   "metadata": {},
   "source": [
    "# Exportando dados"
   ]
  },
  {
   "cell_type": "markdown",
   "metadata": {},
   "source": [
    "<p> O RH solicitou uma lista de colaboradores com mais de 10 anos de casa, essa lista vai indentificar funcionarios elegiveis a promoção.</p>\n",
    "<p>a listagem deve incluir:</p>\n",
    "<li>Nome do colaborador</li>\n",
    "<li>Tempo de serviço em anos</li>\n",
    "<li>Salário individual</li>\n",
    "<p>Adicionalmente, adicionar uma bonifição equivalente a 10% de seu salário atual.</p>"
   ]
  },
  {
   "cell_type": "code",
   "execution_count": 21,
   "metadata": {},
   "outputs": [],
   "source": [
    "columns = ['Nome','Anos de Trabalho','Salário']\n",
    "filter = df['Anos de Trabalho'] >= 10\n",
    "df_promocao = df[filter][columns]"
   ]
  },
  {
   "cell_type": "code",
   "execution_count": 23,
   "metadata": {},
   "outputs": [
    {
     "data": {
      "text/html": [
       "<div>\n",
       "<style scoped>\n",
       "    .dataframe tbody tr th:only-of-type {\n",
       "        vertical-align: middle;\n",
       "    }\n",
       "\n",
       "    .dataframe tbody tr th {\n",
       "        vertical-align: top;\n",
       "    }\n",
       "\n",
       "    .dataframe thead th {\n",
       "        text-align: right;\n",
       "    }\n",
       "</style>\n",
       "<table border=\"1\" class=\"dataframe\">\n",
       "  <thead>\n",
       "    <tr style=\"text-align: right;\">\n",
       "      <th></th>\n",
       "      <th>Nome</th>\n",
       "      <th>Anos de Trabalho</th>\n",
       "      <th>Salário</th>\n",
       "      <th>Salário Bonificação</th>\n",
       "    </tr>\n",
       "  </thead>\n",
       "  <tbody>\n",
       "    <tr>\n",
       "      <th>0</th>\n",
       "      <td>Alexia Aragão</td>\n",
       "      <td>19</td>\n",
       "      <td>20627.70</td>\n",
       "      <td>22690.47</td>\n",
       "    </tr>\n",
       "    <tr>\n",
       "      <th>0</th>\n",
       "      <td>Amanda Duarte</td>\n",
       "      <td>18</td>\n",
       "      <td>18824.55</td>\n",
       "      <td>20707.00</td>\n",
       "    </tr>\n",
       "    <tr>\n",
       "      <th>0</th>\n",
       "      <td>Ana Carolina Gonçalves</td>\n",
       "      <td>19</td>\n",
       "      <td>7662.56</td>\n",
       "      <td>8428.82</td>\n",
       "    </tr>\n",
       "    <tr>\n",
       "      <th>0</th>\n",
       "      <td>Ana Carolina Sales</td>\n",
       "      <td>22</td>\n",
       "      <td>4784.89</td>\n",
       "      <td>5263.38</td>\n",
       "    </tr>\n",
       "    <tr>\n",
       "      <th>0</th>\n",
       "      <td>Ana Clara Almeida</td>\n",
       "      <td>24</td>\n",
       "      <td>10448.12</td>\n",
       "      <td>11492.93</td>\n",
       "    </tr>\n",
       "  </tbody>\n",
       "</table>\n",
       "</div>"
      ],
      "text/plain": [
       "                     Nome  Anos de Trabalho   Salário  Salário Bonificação\n",
       "0           Alexia Aragão                19  20627.70             22690.47\n",
       "0           Amanda Duarte                18  18824.55             20707.00\n",
       "0  Ana Carolina Gonçalves                19   7662.56              8428.82\n",
       "0      Ana Carolina Sales                22   4784.89              5263.38\n",
       "0       Ana Clara Almeida                24  10448.12             11492.93"
      ]
     },
     "execution_count": 23,
     "metadata": {},
     "output_type": "execute_result"
    }
   ],
   "source": [
    "df_promocao['Salário Bonificação'] = df_promocao['Salário'] *1.1\n",
    "df_promocao['Salário Bonificação'] = df_promocao['Salário Bonificação'].round(2)\n",
    "df_promocao.head()"
   ]
  },
  {
   "cell_type": "markdown",
   "metadata": {},
   "source": [
    "### Criação do diretório de destino"
   ]
  },
  {
   "cell_type": "code",
   "execution_count": 25,
   "metadata": {},
   "outputs": [],
   "source": [
    "def new_dir(dir):\n",
    "    if not os.path.exists(dir):\n",
    "        os.makedirs(dir)\n",
    "\n",
    "new_dir('../datasets/Promocoes')"
   ]
  },
  {
   "cell_type": "code",
   "execution_count": 26,
   "metadata": {},
   "outputs": [],
   "source": [
    "df_promocao.to_csv('../datasets/Promocoes/lista_promocao.csv',\n",
    "                   sep=';', encoding='latin1', index=False)\n"
   ]
  }
 ],
 "metadata": {
  "kernelspec": {
   "display_name": "EnvRPA",
   "language": "python",
   "name": "python3"
  },
  "language_info": {
   "codemirror_mode": {
    "name": "ipython",
    "version": 3
   },
   "file_extension": ".py",
   "mimetype": "text/x-python",
   "name": "python",
   "nbconvert_exporter": "python",
   "pygments_lexer": "ipython3",
   "version": "3.12.2"
  }
 },
 "nbformat": 4,
 "nbformat_minor": 2
}
